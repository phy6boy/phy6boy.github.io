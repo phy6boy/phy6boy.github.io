{
 "cells": [
  {
   "cell_type": "markdown",
   "id": "51fac366-8b3d-4a66-af7a-d71a6e0ec2fb",
   "metadata": {},
   "source": [
    "# [back to main menu](https://phy6boy.github.io/blog/index.html)"
   ]
  },
  {
   "cell_type": "markdown",
   "id": "1f737c81-4c2b-468f-b615-af5e14284502",
   "metadata": {},
   "source": [
    "# Differential eqation with python"
   ]
  },
  {
   "cell_type": "markdown",
   "id": "2d54b888-1fb5-4a63-98ac-9dba860f392e",
   "metadata": {},
   "source": [
    "Differential equations occur in almost everywhere in daily life. Altough there exist different techniques for solving differential equation exactly, many real world syatems cannot be solved with existing analytical tretments. Hence one has to numerically evaluate the differential equations to obtain a solution."
   ]
  }
 ],
 "metadata": {
  "kernelspec": {
   "display_name": "Python 3 (ipykernel)",
   "language": "python",
   "name": "python3"
  },
  "language_info": {
   "codemirror_mode": {
    "name": "ipython",
    "version": 3
   },
   "file_extension": ".py",
   "mimetype": "text/x-python",
   "name": "python",
   "nbconvert_exporter": "python",
   "pygments_lexer": "ipython3",
   "version": "3.10.12"
  }
 },
 "nbformat": 4,
 "nbformat_minor": 5
}
